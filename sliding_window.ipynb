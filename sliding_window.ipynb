{
 "cells": [
  {
   "cell_type": "markdown",
   "metadata": {},
   "source": [
    "## find the length of the longest subarray that has a sum less than or equal to k. For this example, let nums = [3, 2, 1, 3, 1, 1] and k = 5."
   ]
  },
  {
   "cell_type": "code",
   "execution_count": 8,
   "metadata": {},
   "outputs": [],
   "source": [
    "def longest_subarray(arr,k):\n",
    "    left=0\n",
    "    current=0\n",
    "    answer=0\n",
    "    for right in range(0,len(arr)):\n",
    "        current+=arr[right]\n",
    "        while(current>k):\n",
    "            current-=arr[left]\n",
    "            left+=1\n",
    "        answer=max(answer,right-left+1)\n",
    "    return answer,current\n",
    "        \n"
   ]
  },
  {
   "cell_type": "code",
   "execution_count": 9,
   "metadata": {},
   "outputs": [
    {
     "data": {
      "text/plain": [
       "(3, 5)"
      ]
     },
     "execution_count": 9,
     "metadata": {},
     "output_type": "execute_result"
    }
   ],
   "source": [
    "longest_subarray([3,2,1,3,1,1],5)"
   ]
  },
  {
   "cell_type": "code",
   "execution_count": 11,
   "metadata": {},
   "outputs": [
    {
     "data": {
      "text/plain": [
       "(4, 10)"
      ]
     },
     "execution_count": 11,
     "metadata": {},
     "output_type": "execute_result"
    }
   ],
   "source": [
    "longest_subarray([10, 5, 2, 7, 1, 9],k=15)"
   ]
  },
  {
   "cell_type": "code",
   "execution_count": 2,
   "metadata": {},
   "outputs": [
    {
     "name": "stdout",
     "output_type": "stream",
     "text": [
      "0\n",
      "1\n",
      "2\n",
      "3\n",
      "4\n",
      "5\n"
     ]
    }
   ],
   "source": [
    "arr=[3,2,1,3,1,1]\n",
    "for right in range(0,len(arr)):\n",
    "    print(right)\n"
   ]
  },
  {
   "cell_type": "code",
   "execution_count": 24,
   "metadata": {},
   "outputs": [
    {
     "name": "stdout",
     "output_type": "stream",
     "text": [
      "True\n"
     ]
    }
   ],
   "source": [
    "l=[1,2]\n",
    "if l:\n",
    "    print(True)\n",
    "else:\n",
    "    print(False)"
   ]
  },
  {
   "cell_type": "code",
   "execution_count": 6,
   "metadata": {},
   "outputs": [
    {
     "data": {
      "text/plain": [
       "True"
      ]
     },
     "execution_count": 6,
     "metadata": {},
     "output_type": "execute_result"
    }
   ],
   "source": [
    "s='mom'\n",
    "def f(s):\n",
    "    l=0\n",
    "    r=len(s)-1\n",
    "\n",
    "    while(l<r):\n",
    "        if s[l]==s[r]:\n",
    "            l+=1\n",
    "            r-=1\n",
    "        else:\n",
    "            return False\n",
    "    return True\n",
    "f(s)        \n"
   ]
  },
  {
   "cell_type": "code",
   "execution_count": 18,
   "metadata": {},
   "outputs": [
    {
     "data": {
      "text/plain": [
       "(2, 10)"
      ]
     },
     "execution_count": 18,
     "metadata": {},
     "output_type": "execute_result"
    }
   ],
   "source": [
    "#nums=[1,2,4,6,8,9,14,15]\n",
    "nums=[2,3,10,20]\n",
    "t=12\n",
    "\n",
    "def tf(nums,t):\n",
    "    l=0\n",
    "    r=len(nums)-1\n",
    "\n",
    "    while(l<r):\n",
    "        if nums[l]+nums[r] > t:\n",
    "            r-=1\n",
    "        elif nums[l]+nums[r] < t:\n",
    "            l+=1\n",
    "        else:\n",
    "            return nums[l],nums[r]\n",
    "    return False\n",
    "\n",
    "tf(nums,t)"
   ]
  },
  {
   "cell_type": "code",
   "execution_count": 26,
   "metadata": {},
   "outputs": [
    {
     "data": {
      "text/plain": [
       "[1, 2, 4, 7, 8, 10, 12, 13, 20, 22]"
      ]
     },
     "execution_count": 26,
     "metadata": {},
     "output_type": "execute_result"
    }
   ],
   "source": [
    "a=[1,4,8,13,20,22]\n",
    "b=[2,7,10,12]\n",
    "\n",
    "def sm(a,b):\n",
    "    sol=[]\n",
    "    i=j=0\n",
    "    while i<len(a) and j<len(b):\n",
    "\n",
    "        if a[i]<b[j]:\n",
    "            sol.append(a[i])\n",
    "            i+=1\n",
    "        else:\n",
    "            sol.append(b[j])\n",
    "            j+=1\n",
    "    if i==len(a):\n",
    "        sol.extend(b[j:])\n",
    "    elif j==len(b):\n",
    "        sol.extend(a[i:])\n",
    "    return sol\n",
    "\n",
    "sm(a,b)"
   ]
  },
  {
   "cell_type": "code",
   "execution_count": null,
   "metadata": {},
   "outputs": [],
   "source": []
  }
 ],
 "metadata": {
  "kernelspec": {
   "display_name": "Python 3",
   "language": "python",
   "name": "python3"
  },
  "language_info": {
   "codemirror_mode": {
    "name": "ipython",
    "version": 3
   },
   "file_extension": ".py",
   "mimetype": "text/x-python",
   "name": "python",
   "nbconvert_exporter": "python",
   "pygments_lexer": "ipython3",
   "version": "3.11.4"
  }
 },
 "nbformat": 4,
 "nbformat_minor": 2
}
