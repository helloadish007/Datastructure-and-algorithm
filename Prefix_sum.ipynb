{
 "cells": [
  {
   "cell_type": "markdown",
   "metadata": {},
   "source": [
    "Example 1: Given an integer array nums, an array queries where queries[i] = [x, y] and an integer limit, return a boolean array that represents the answer to each query. A query is true if the sum of the subarray from x to y is less than limit, or false otherwise.\n",
    "\n",
    "For example, given nums = [1, 6, 3, 2, 7, 2], queries = [[0, 3], [2, 5], [2, 4]], and limit = 13, the answer is [true, false, true]. For each query, the subarray sums are [12, 14, 12]."
   ]
  },
  {
   "cell_type": "code",
   "execution_count": 2,
   "metadata": {},
   "outputs": [
    {
     "data": {
      "text/plain": [
       "([1, 7, 10, 12, 19, 21], [-9, 14, 12], [True, False, True])"
      ]
     },
     "execution_count": 2,
     "metadata": {},
     "output_type": "execute_result"
    }
   ],
   "source": [
    "nums = [1, 6, 3, 2, 7, 2]\n",
    "queries = [[0, 3], [2, 5], [2, 4]]\n",
    "limit = 13\n",
    "\n",
    "def sum_of_sub_array(nums,queries,limit):\n",
    "    prefix_sum=[nums[0]]\n",
    "    for i in nums[1:]:\n",
    "        prefix_sum.append(prefix_sum[-1]+i)\n",
    "    \n",
    "    sum_queries=[]\n",
    "    result=[]\n",
    "    for q in queries:\n",
    "        immediate_sum=prefix_sum[q[1]]-prefix_sum[q[0]-1]\n",
    "        sum_queries.append(immediate_sum)\n",
    "        if immediate_sum<limit:\n",
    "            result.append(True)\n",
    "        else:\n",
    "            result.append(False)\n",
    "    return prefix_sum,sum_queries,result\n",
    "\n",
    "    \n",
    "\n",
    "sum_of_sub_array(nums,queries,limit)"
   ]
  },
  {
   "cell_type": "code",
   "execution_count": 3,
   "metadata": {},
   "outputs": [
    {
     "data": {
      "text/plain": [
       "([1, 7, 10, 12, 19, 21], [-9, 14, 12], [True, False, True])"
      ]
     },
     "execution_count": 3,
     "metadata": {},
     "output_type": "execute_result"
    }
   ],
   "source": [
    "nums = [1, 6, 3, 2, 7, 2]\n",
    "queries = [[0, 3], [2, 5], [2, 4]]\n",
    "limit = 13\n",
    "\n",
    "def sum_of_sub_array(nums,queries,limit):\n",
    "    prefix_sum=[nums[0]]\n",
    "    for i in nums[1:]:\n",
    "        prefix_sum.append(prefix_sum[-1]+i)\n",
    "    \n",
    "    sum_queries=[]\n",
    "    result=[]\n",
    "    for q in queries:\n",
    "        immediate_sum=prefix_sum[q[1]]-prefix_sum[q[0]-1]\n",
    "        sum_queries.append(immediate_sum)\n",
    "        result.append(immediate_sum<limit)\n",
    "    return prefix_sum,sum_queries,result\n",
    "\n",
    "    \n",
    "\n",
    "sum_of_sub_array(nums,queries,limit)"
   ]
  },
  {
   "cell_type": "markdown",
   "metadata": {},
   "source": [
    "Example 2:  Number of Ways to Split Array\n",
    "\n",
    "Given an integer array nums, find the number of ways to split the array into two parts so that the first section has a sum greater than or equal to the sum of the second section. The second section should have at least one number."
   ]
  },
  {
   "cell_type": "code",
   "execution_count": 18,
   "metadata": {},
   "outputs": [
    {
     "data": {
      "text/plain": [
       "([12, 15, 19, 15, 20, 26], [[12, 14], [15, 11], [19, 7], [15, 11], [20, 6]], 4)"
      ]
     },
     "execution_count": 18,
     "metadata": {},
     "output_type": "execute_result"
    }
   ],
   "source": [
    "#a=[10,4,-8,7]\n",
    "#expected outut 2\n",
    "a=[12,3,4,-4,5,6]\n",
    "def split(a):\n",
    "    prefix_sum=[a[0]]\n",
    "    for i in a[1:]:\n",
    "        prefix_sum.append(prefix_sum[-1]+i)\n",
    "    result=0\n",
    "    collected_left_right_sum=[]\n",
    "    for i in range(len(a)-1):\n",
    "        left_section_sum=prefix_sum[i]\n",
    "        right_section_sum=prefix_sum[-1]-prefix_sum[i]\n",
    "        collected_left_right_sum.append([left_section_sum,right_section_sum])\n",
    "        condition=left_section_sum>=right_section_sum\n",
    "        if condition:\n",
    "            result+=1\n",
    "    return prefix_sum,collected_left_right_sum,result\n",
    "\n",
    "split(a)\n",
    "\n",
    "# time complexity : O(N)\n",
    "# space complexity : O(N) - as we are creating prefix_sum array\n"
   ]
  },
  {
   "cell_type": "code",
   "execution_count": 23,
   "metadata": {},
   "outputs": [
    {
     "data": {
      "text/plain": [
       "([[12, 14], [15, 11], [19, 7], [15, 11], [20, 6]], 4)"
      ]
     },
     "execution_count": 23,
     "metadata": {},
     "output_type": "execute_result"
    }
   ],
   "source": [
    "#a=[10,4,-8,7]\n",
    "#expected outut 2\n",
    "\n",
    "a=[12,3,4,-4,5,6]\n",
    "\n",
    "def split_brute(a):\n",
    "    result=0\n",
    "    collected_left_right_sum=[]\n",
    "    for i in range(1,len(a)):\n",
    "        left_section_sum=sum(a[0:i])\n",
    "        right_section_sum=sum(a[i:])\n",
    "        collected_left_right_sum.append([left_section_sum,right_section_sum])\n",
    "        condition=left_section_sum>=right_section_sum\n",
    "        if condition:\n",
    "            result+=1\n",
    "    return collected_left_right_sum,result\n",
    "\n",
    "split_brute(a)\n",
    "\n",
    "# time complexity : O(N*2) - as sum() function will traverse n times and calculate the sum\n",
    "# space complexity : O(1) - as we are not creating prefix_sum array"
   ]
  },
  {
   "cell_type": "code",
   "execution_count": 26,
   "metadata": {},
   "outputs": [
    {
     "data": {
      "text/plain": [
       "4"
      ]
     },
     "execution_count": 26,
     "metadata": {},
     "output_type": "execute_result"
    }
   ],
   "source": [
    "#a=[10,4,-8,7]\n",
    "#expected outut 2\n",
    "a=[12,3,4,-4,5,6]\n",
    "# we are not creating prefix_sum array - so our space complexity will be O(1)\n",
    "# Instead we are calculating left_section sum and right_section sum on the go\n",
    "\n",
    "def split_most_efficient(a):\n",
    "    total=sum(a)\n",
    "    left_section_sum=0\n",
    "    result=0\n",
    "    for  i in range(0,len(a)-1):\n",
    "        left_section_sum+=a[i]\n",
    "        right_section_sum=total-left_section_sum\n",
    "        if left_section_sum>=right_section_sum:\n",
    "            result+=1\n",
    "    return result\n",
    "\n",
    "split_most_efficient(a)\n",
    "\n",
    "\n",
    "# time complexity : O(N) - as we are still utilising prefix_sum logic but not creating an array for storing prefix_sum\n",
    "# space complexity : O(1) - as we are not  creating prefix_sum array\n"
   ]
  },
  {
   "cell_type": "code",
   "execution_count": null,
   "metadata": {},
   "outputs": [],
   "source": []
  }
 ],
 "metadata": {
  "kernelspec": {
   "display_name": "Python 3",
   "language": "python",
   "name": "python3"
  },
  "language_info": {
   "codemirror_mode": {
    "name": "ipython",
    "version": 3
   },
   "file_extension": ".py",
   "mimetype": "text/x-python",
   "name": "python",
   "nbconvert_exporter": "python",
   "pygments_lexer": "ipython3",
   "version": "3.11.4"
  }
 },
 "nbformat": 4,
 "nbformat_minor": 2
}
